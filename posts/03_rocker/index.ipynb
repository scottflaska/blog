{
  "cells": [
    {
      "cell_type": "raw",
      "metadata": {},
      "source": [
        "---\n",
        "title: \"Deploying R Projects in Docker\"\n",
        "author: \"Scott Flaska\"\n",
        "date: \"2023-05-02\"\n",
        "categories: [r, docker, devops]\n",
        "image: \"docker.png\"\n",
        "format: html\n",
        "filters: \n",
        "  - include-code-files\n",
        "---"
      ],
      "id": "ea24cb89"
    },
    {
      "cell_type": "markdown",
      "metadata": {},
      "source": [
        "Managing data science projects is hard.\n",
        "\n",
        "\n",
        "\n",
        "```{.dockerfile include=\"dockerfile\" filename=\"dockerfile\"}\n",
        "```\n",
        "\n",
        "\n",
        "```{.yml include=\"compose.yml\" filename=\"compose.yml\"}\n",
        "```\n",
        "\n",
        "\n",
        "```{powershell}\n",
        "#| eval: false\n",
        "scott\n",
        "```\n",
        "\n",
        "\n",
        "\n",
        "\n",
        "<!-- ```{bash} -->\n",
        "<!-- #| eval: false -->\n",
        "<!-- docker-compose -f compose.yml up -d -->\n",
        "<!-- ``` -->\n",
        "\n",
        "\n",
        "<!-- ```{bash} -->\n",
        "<!-- #| eval: false -->\n",
        "<!-- docker-compose -f compose.yml down -->\n",
        "<!-- ``` -->"
      ],
      "id": "47fb6a26"
    }
  ],
  "metadata": {
    "kernelspec": {
      "display_name": "Python 3",
      "language": "python",
      "name": "python3"
    }
  },
  "nbformat": 4,
  "nbformat_minor": 5
}